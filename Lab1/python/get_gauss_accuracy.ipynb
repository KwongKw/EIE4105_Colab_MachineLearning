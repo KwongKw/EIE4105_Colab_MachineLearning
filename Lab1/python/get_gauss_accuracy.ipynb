{
 "cells": [
  {
   "cell_type": "markdown",
   "source": [
    "# Gaussian Classifier"
   ],
   "metadata": {
    "id": "Gfp2M6a1v3kZ"
   },
   "id": "Gfp2M6a1v3kZ"
  },
  {
   "cell_type": "code",
   "source": [
    "# Mount Google drive and cd to working folder\n",
    "%cd /content/drive/My Drive/Learning/EIE4105/lab1/python"
   ],
   "metadata": {
    "colab": {
     "base_uri": "https://localhost:8080/"
    },
    "id": "dTGl37YPwA4e",
    "executionInfo": {
     "status": "ok",
     "timestamp": 1645028066539,
     "user_tz": -480,
     "elapsed": 2518,
     "user": {
      "displayName": "Manwai Mak",
      "photoUrl": "https://lh3.googleusercontent.com/a/default-user=s64",
      "userId": "13941862130459577180"
     }
    },
    "outputId": "d7831c11-2fc0-44df-b4cf-73b2c974516c"
   },
   "id": "dTGl37YPwA4e",
   "execution_count": null,
   "outputs": [
    {
     "output_type": "stream",
     "name": "stdout",
     "text": [
      "Drive already mounted at /content/drive; to attempt to forcibly remount, call drive.mount(\"/content/drive\", force_remount=True).\n",
      "/content/drive/My Drive/Learning/EIE4105/lab1/python\n"
     ]
    }
   ]
  },
  {
   "cell_type": "code",
   "execution_count": null,
   "id": "366f8482",
   "metadata": {
    "id": "366f8482"
   },
   "outputs": [],
   "source": [
    "import numpy as np \n",
    "import pandas as pd \n",
    "import matplotlib.pyplot as plt \n",
    "from scipy.stats import multivariate_normal as mvn\n",
    "import seaborn as sns"
   ]
  },
  {
   "cell_type": "code",
   "execution_count": null,
   "id": "70f93122",
   "metadata": {
    "id": "70f93122"
   },
   "outputs": [],
   "source": [
    "class Gauss_class_diag():\n",
    "    \"\"\"\n",
    "    This class implements a Gaussian classifier with diagonal covariance matrices \n",
    "    \"\"\"\n",
    "    def fit(self, X, y, epsilon = 0.5e-1): \n",
    "        self.stats = dict()\n",
    "        self.priors = dict()\n",
    "        self.labels = set(y.astype(int))    # Unique class labels: 0,1,2,...,K-1\n",
    "        for k in self.labels:    \n",
    "            X_k = X[y==k,:]     # Select data from the k-th class\n",
    "            self.stats[k] = {\"mean\":X_k.mean(axis=0), \"cov\":X_k.var(axis=0) + epsilon }\n",
    "            self.priors[k]=len(X_k)/len(X)\n",
    "    def predict(self, X):\n",
    "        N, D = X.shape\n",
    "        P_hat = np.zeros((N,len(self.labels)))\n",
    "        for k, s in self.stats.items():\n",
    "            P_hat[:,k] = mvn.logpdf(X, s[\"mean\"], s[\"cov\"]) + np.log(self.priors[k])\n",
    "        return P_hat.argmax(axis=1)"
   ]
  },
  {
   "cell_type": "code",
   "execution_count": null,
   "id": "c7a9fbc1",
   "metadata": {
    "id": "c7a9fbc1"
   },
   "outputs": [],
   "source": [
    "class Gauss_class_full():\n",
    "    \"\"\"\n",
    "    This class implements a Gaussian classifier with full covariance matrices\n",
    "    \"\"\"\n",
    "    def fit(self, X,y, epsilon=0.5e-1):\n",
    "        self.stats = dict()\n",
    "        self.priors = dict()\n",
    "        self.labels = set(y.astype(int))\n",
    "        for k in self.labels:\n",
    "            X_k = X[y==k,:]\n",
    "            N_k,D = X_k.shape   # N_k=total number of observations of that class\n",
    "            mu_k = X_k.mean(axis=0)\n",
    "            self.stats[k] = {\"mean\":X_k.mean(axis=0), \n",
    "                              \"cov\": (1/(N_k-1))*np.matmul((X_k-mu_k).T, X_k-mu_k) + \n",
    "                             epsilon*np.identity(D)}\n",
    "            self.priors[k] = len(X_k)/len(X)\n",
    "    def predict(self, X):\n",
    "        N,D = X.shape\n",
    "        P_hat = np.zeros((N,len(self.labels)))\n",
    "        for k,s in self.stats.items():\n",
    "            P_hat[:,k] = mvn.logpdf(X, s[\"mean\"], s[\"cov\"]) + np.log(self.priors[k])\n",
    "        return P_hat.argmax(axis=1)"
   ]
  },
  {
   "cell_type": "code",
   "execution_count": null,
   "id": "92f4b9c0",
   "metadata": {
    "id": "92f4b9c0"
   },
   "outputs": [],
   "source": [
    "# Loading the data\n",
    "from mnist import load_mnist\n",
    "\n",
    "trainpath = '../data/noisy_train_digits.mat'\n",
    "testpath = '../data/noisy_test_digits.mat'\n",
    "train_data, train_labels, test_data, test_labels= load_mnist(trainpath, testpath)"
   ]
  },
  {
   "cell_type": "code",
   "execution_count": null,
   "id": "ecc5373d",
   "metadata": {
    "id": "ecc5373d"
   },
   "outputs": [],
   "source": [
    "def accuracy(y, y_hat):\n",
    "    return np.mean(y==y_hat)"
   ]
  },
  {
   "cell_type": "code",
   "execution_count": null,
   "id": "e9df2897",
   "metadata": {
    "id": "e9df2897"
   },
   "outputs": [],
   "source": [
    "# Create a Gaussian classifier with diagonal covariance matrices\n",
    "gcd = Gauss_class_diag()"
   ]
  },
  {
   "cell_type": "code",
   "execution_count": null,
   "id": "d2c35c7f",
   "metadata": {
    "id": "d2c35c7f"
   },
   "outputs": [],
   "source": [
    "# Load 100 training samples\n",
    "from mnist import load_SampleMnist\n",
    "\n",
    "nSamples = 100\n",
    "train_data, train_labels, test_data, test_labels = load_SampleMnist(trainpath,testpath,nSamples)"
   ]
  },
  {
   "cell_type": "code",
   "execution_count": null,
   "id": "f54c30da",
   "metadata": {
    "id": "f54c30da"
   },
   "outputs": [],
   "source": [
    "# Train the Gaussian classifier\n",
    "gcd.fit(train_data,train_labels)"
   ]
  },
  {
   "cell_type": "code",
   "execution_count": null,
   "id": "4a064644",
   "metadata": {
    "id": "4a064644"
   },
   "outputs": [],
   "source": [
    "# Predict the class labels of training samples\n",
    "y_train_gcd = gcd.predict(train_data)"
   ]
  },
  {
   "cell_type": "code",
   "execution_count": null,
   "id": "db455b69",
   "metadata": {
    "id": "db455b69"
   },
   "outputs": [],
   "source": [
    "# Predict the class labels of test samples\n",
    "y_test_gcd = gcd.predict(test_data)"
   ]
  },
  {
   "cell_type": "code",
   "execution_count": null,
   "id": "70aa4cbf",
   "metadata": {
    "colab": {
     "base_uri": "https://localhost:8080/"
    },
    "id": "70aa4cbf",
    "executionInfo": {
     "status": "ok",
     "timestamp": 1645028133715,
     "user_tz": -480,
     "elapsed": 346,
     "user": {
      "displayName": "Manwai Mak",
      "photoUrl": "https://lh3.googleusercontent.com/a/default-user=s64",
      "userId": "13941862130459577180"
     }
    },
    "outputId": "33f7a9e6-37f7-4e5d-fabb-bd13ddf4e987"
   },
   "outputs": [
    {
     "output_type": "execute_result",
     "data": {
      "text/plain": [
       "0.891"
      ]
     },
     "metadata": {},
     "execution_count": 27
    }
   ],
   "source": [
    "# Training accuracy\n",
    "accuracy(train_labels, y_train_gcd)"
   ]
  },
  {
   "cell_type": "code",
   "execution_count": null,
   "id": "6207e6e2",
   "metadata": {
    "colab": {
     "base_uri": "https://localhost:8080/"
    },
    "id": "6207e6e2",
    "executionInfo": {
     "status": "ok",
     "timestamp": 1645028140310,
     "user_tz": -480,
     "elapsed": 471,
     "user": {
      "displayName": "Manwai Mak",
      "photoUrl": "https://lh3.googleusercontent.com/a/default-user=s64",
      "userId": "13941862130459577180"
     }
    },
    "outputId": "cd04f287-45a2-40d5-fedc-05afbad25e25"
   },
   "outputs": [
    {
     "output_type": "execute_result",
     "data": {
      "text/plain": [
       "0.8146"
      ]
     },
     "metadata": {},
     "execution_count": 28
    }
   ],
   "source": [
    "# Test accuracy\n",
    "accuracy(test_labels, y_test_gcd)"
   ]
  },
  {
   "cell_type": "code",
   "execution_count": null,
   "id": "df60c8cb",
   "metadata": {
    "colab": {
     "base_uri": "https://localhost:8080/",
     "height": 480
    },
    "id": "df60c8cb",
    "executionInfo": {
     "status": "ok",
     "timestamp": 1645028149363,
     "user_tz": -480,
     "elapsed": 1830,
     "user": {
      "displayName": "Manwai Mak",
      "photoUrl": "https://lh3.googleusercontent.com/a/default-user=s64",
      "userId": "13941862130459577180"
     }
    },
    "outputId": "6f7e8ddf-65ee-4071-bc27-d8c4cca4aa29"
   },
   "outputs": [
    {
     "output_type": "execute_result",
     "data": {
      "text/plain": [
       "Text(0.5, 42.0, 'Predicted label')"
      ]
     },
     "metadata": {},
     "execution_count": 29
    },
    {
     "output_type": "display_data",
     "data": {
      "image/png": "[encoded data removed]",
      "text/plain": [
       "<Figure size 720x504 with 2 Axes>"
      ]
     },
     "metadata": {
      "needs_background": "light"
     }
    }
   ],
   "source": [
    "# Plot confusion matrix\n",
    "plt.figure(figsize=(10,7))\n",
    "y_actu = pd.Series(test_labels, name='Actual')\n",
    "y_pred = pd.Series(y_test_gcd, name='Predicted')\n",
    "cm = pd.crosstab(y_actu, y_pred)\n",
    "ax = sns.heatmap(cm, annot=True, fmt=\"d\")\n",
    "plt.ylabel('True label')\n",
    "plt.xlabel('Predicted label')"
   ]
  },
  {
   "cell_type": "code",
   "execution_count": null,
   "id": "a458d0cc",
   "metadata": {
    "id": "a458d0cc"
   },
   "outputs": [],
   "source": [
    "# Create a Gaussian classifier with full convariance matrices\n",
    "gcf = Gauss_class_full()"
   ]
  },
  {
   "cell_type": "code",
   "execution_count": null,
   "id": "6d1959b4",
   "metadata": {
    "id": "6d1959b4"
   },
   "outputs": [],
   "source": [
    "# Train the classifier\n",
    "gcf.fit(train_data, train_labels, epsilon=0)"
   ]
  },
  {
   "cell_type": "code",
   "execution_count": null,
   "id": "c8aed6dc",
   "metadata": {
    "id": "c8aed6dc",
    "executionInfo": {
     "status": "error",
     "timestamp": 1645028162482,
     "user_tz": -480,
     "elapsed": 295,
     "user": {
      "displayName": "Manwai Mak",
      "photoUrl": "https://lh3.googleusercontent.com/a/default-user=s64",
      "userId": "13941862130459577180"
     }
    },
    "colab": {
     "base_uri": "https://localhost:8080/",
     "height": 370
    },
    "outputId": "fdf734a3-655f-4efb-9b74-48494d67a8f3"
   },
   "outputs": [
    {
     "output_type": "error",
     "ename": "LinAlgError",
     "evalue": "ignored",
     "traceback": [
      "\u001B[0;31m---------------------------------------------------------------------------\u001B[0m",
      "\u001B[0;31mLinAlgError\u001B[0m                               Traceback (most recent call last)",
      "\u001B[0;32m<ipython-input-32-40e11d338925>\u001B[0m in \u001B[0;36m<module>\u001B[0;34m()\u001B[0m\n\u001B[1;32m      1\u001B[0m \u001B[0;31m# Predict the class labels of training data\u001B[0m\u001B[0;34m\u001B[0m\u001B[0;34m\u001B[0m\u001B[0;34m\u001B[0m\u001B[0m\n\u001B[0;32m----> 2\u001B[0;31m \u001B[0my_train_gcf\u001B[0m \u001B[0;34m=\u001B[0m \u001B[0mgcf\u001B[0m\u001B[0;34m.\u001B[0m\u001B[0mpredict\u001B[0m\u001B[0;34m(\u001B[0m\u001B[0mtrain_data\u001B[0m\u001B[0;34m)\u001B[0m\u001B[0;34m\u001B[0m\u001B[0;34m\u001B[0m\u001B[0m\n\u001B[0m",
      "\u001B[0;32m<ipython-input-21-d465ee42fc3c>\u001B[0m in \u001B[0;36mpredict\u001B[0;34m(self, X)\u001B[0m\n\u001B[1;32m     23\u001B[0m \u001B[0;34m\u001B[0m\u001B[0m\n\u001B[1;32m     24\u001B[0m         \u001B[0;32mfor\u001B[0m \u001B[0mk\u001B[0m\u001B[0;34m,\u001B[0m\u001B[0ms\u001B[0m \u001B[0;32min\u001B[0m \u001B[0mself\u001B[0m\u001B[0;34m.\u001B[0m\u001B[0mstats\u001B[0m\u001B[0;34m.\u001B[0m\u001B[0mitems\u001B[0m\u001B[0;34m(\u001B[0m\u001B[0;34m)\u001B[0m\u001B[0;34m:\u001B[0m\u001B[0;34m\u001B[0m\u001B[0;34m\u001B[0m\u001B[0m\n\u001B[0;32m---> 25\u001B[0;31m             \u001B[0mP_hat\u001B[0m\u001B[0;34m[\u001B[0m\u001B[0;34m:\u001B[0m\u001B[0;34m,\u001B[0m\u001B[0mk\u001B[0m\u001B[0;34m]\u001B[0m \u001B[0;34m=\u001B[0m \u001B[0mmvn\u001B[0m\u001B[0;34m.\u001B[0m\u001B[0mlogpdf\u001B[0m\u001B[0;34m(\u001B[0m\u001B[0mX\u001B[0m\u001B[0;34m,\u001B[0m \u001B[0ms\u001B[0m\u001B[0;34m[\u001B[0m\u001B[0;34m\"mean\"\u001B[0m\u001B[0;34m]\u001B[0m\u001B[0;34m,\u001B[0m \u001B[0ms\u001B[0m\u001B[0;34m[\u001B[0m\u001B[0;34m\"cov\"\u001B[0m\u001B[0;34m]\u001B[0m\u001B[0;34m)\u001B[0m \u001B[0;34m+\u001B[0m \u001B[0mnp\u001B[0m\u001B[0;34m.\u001B[0m\u001B[0mlog\u001B[0m\u001B[0;34m(\u001B[0m\u001B[0mself\u001B[0m\u001B[0;34m.\u001B[0m\u001B[0mpriors\u001B[0m\u001B[0;34m[\u001B[0m\u001B[0mk\u001B[0m\u001B[0;34m]\u001B[0m\u001B[0;34m)\u001B[0m\u001B[0;34m\u001B[0m\u001B[0;34m\u001B[0m\u001B[0m\n\u001B[0m\u001B[1;32m     26\u001B[0m \u001B[0;34m\u001B[0m\u001B[0m\n\u001B[1;32m     27\u001B[0m         \u001B[0;32mreturn\u001B[0m \u001B[0mP_hat\u001B[0m\u001B[0;34m.\u001B[0m\u001B[0margmax\u001B[0m\u001B[0;34m(\u001B[0m\u001B[0maxis\u001B[0m\u001B[0;34m=\u001B[0m\u001B[0;36m1\u001B[0m\u001B[0;34m)\u001B[0m\u001B[0;34m\u001B[0m\u001B[0;34m\u001B[0m\u001B[0m\n",
      "\u001B[0;32m/usr/local/lib/python3.7/dist-packages/scipy/stats/_multivariate.py\u001B[0m in \u001B[0;36mlogpdf\u001B[0;34m(self, x, mean, cov, allow_singular)\u001B[0m\n\u001B[1;32m    493\u001B[0m         \u001B[0mdim\u001B[0m\u001B[0;34m,\u001B[0m \u001B[0mmean\u001B[0m\u001B[0;34m,\u001B[0m \u001B[0mcov\u001B[0m \u001B[0;34m=\u001B[0m \u001B[0mself\u001B[0m\u001B[0;34m.\u001B[0m\u001B[0m_process_parameters\u001B[0m\u001B[0;34m(\u001B[0m\u001B[0;32mNone\u001B[0m\u001B[0;34m,\u001B[0m \u001B[0mmean\u001B[0m\u001B[0;34m,\u001B[0m \u001B[0mcov\u001B[0m\u001B[0;34m)\u001B[0m\u001B[0;34m\u001B[0m\u001B[0;34m\u001B[0m\u001B[0m\n\u001B[1;32m    494\u001B[0m         \u001B[0mx\u001B[0m \u001B[0;34m=\u001B[0m \u001B[0mself\u001B[0m\u001B[0;34m.\u001B[0m\u001B[0m_process_quantiles\u001B[0m\u001B[0;34m(\u001B[0m\u001B[0mx\u001B[0m\u001B[0;34m,\u001B[0m \u001B[0mdim\u001B[0m\u001B[0;34m)\u001B[0m\u001B[0;34m\u001B[0m\u001B[0;34m\u001B[0m\u001B[0m\n\u001B[0;32m--> 495\u001B[0;31m         \u001B[0mpsd\u001B[0m \u001B[0;34m=\u001B[0m \u001B[0m_PSD\u001B[0m\u001B[0;34m(\u001B[0m\u001B[0mcov\u001B[0m\u001B[0;34m,\u001B[0m \u001B[0mallow_singular\u001B[0m\u001B[0;34m=\u001B[0m\u001B[0mallow_singular\u001B[0m\u001B[0;34m)\u001B[0m\u001B[0;34m\u001B[0m\u001B[0;34m\u001B[0m\u001B[0m\n\u001B[0m\u001B[1;32m    496\u001B[0m         \u001B[0mout\u001B[0m \u001B[0;34m=\u001B[0m \u001B[0mself\u001B[0m\u001B[0;34m.\u001B[0m\u001B[0m_logpdf\u001B[0m\u001B[0;34m(\u001B[0m\u001B[0mx\u001B[0m\u001B[0;34m,\u001B[0m \u001B[0mmean\u001B[0m\u001B[0;34m,\u001B[0m \u001B[0mpsd\u001B[0m\u001B[0;34m.\u001B[0m\u001B[0mU\u001B[0m\u001B[0;34m,\u001B[0m \u001B[0mpsd\u001B[0m\u001B[0;34m.\u001B[0m\u001B[0mlog_pdet\u001B[0m\u001B[0;34m,\u001B[0m \u001B[0mpsd\u001B[0m\u001B[0;34m.\u001B[0m\u001B[0mrank\u001B[0m\u001B[0;34m)\u001B[0m\u001B[0;34m\u001B[0m\u001B[0;34m\u001B[0m\u001B[0m\n\u001B[1;32m    497\u001B[0m         \u001B[0;32mreturn\u001B[0m \u001B[0m_squeeze_output\u001B[0m\u001B[0;34m(\u001B[0m\u001B[0mout\u001B[0m\u001B[0;34m)\u001B[0m\u001B[0;34m\u001B[0m\u001B[0;34m\u001B[0m\u001B[0m\n",
      "\u001B[0;32m/usr/local/lib/python3.7/dist-packages/scipy/stats/_multivariate.py\u001B[0m in \u001B[0;36m__init__\u001B[0;34m(self, M, cond, rcond, lower, check_finite, allow_singular)\u001B[0m\n\u001B[1;32m    161\u001B[0m         \u001B[0md\u001B[0m \u001B[0;34m=\u001B[0m \u001B[0ms\u001B[0m\u001B[0;34m[\u001B[0m\u001B[0ms\u001B[0m \u001B[0;34m>\u001B[0m \u001B[0meps\u001B[0m\u001B[0;34m]\u001B[0m\u001B[0;34m\u001B[0m\u001B[0;34m\u001B[0m\u001B[0m\n\u001B[1;32m    162\u001B[0m         \u001B[0;32mif\u001B[0m \u001B[0mlen\u001B[0m\u001B[0;34m(\u001B[0m\u001B[0md\u001B[0m\u001B[0;34m)\u001B[0m \u001B[0;34m<\u001B[0m \u001B[0mlen\u001B[0m\u001B[0;34m(\u001B[0m\u001B[0ms\u001B[0m\u001B[0;34m)\u001B[0m \u001B[0;32mand\u001B[0m \u001B[0;32mnot\u001B[0m \u001B[0mallow_singular\u001B[0m\u001B[0;34m:\u001B[0m\u001B[0;34m\u001B[0m\u001B[0;34m\u001B[0m\u001B[0m\n\u001B[0;32m--> 163\u001B[0;31m             \u001B[0;32mraise\u001B[0m \u001B[0mnp\u001B[0m\u001B[0;34m.\u001B[0m\u001B[0mlinalg\u001B[0m\u001B[0;34m.\u001B[0m\u001B[0mLinAlgError\u001B[0m\u001B[0;34m(\u001B[0m\u001B[0;34m'singular matrix'\u001B[0m\u001B[0;34m)\u001B[0m\u001B[0;34m\u001B[0m\u001B[0;34m\u001B[0m\u001B[0m\n\u001B[0m\u001B[1;32m    164\u001B[0m         \u001B[0ms_pinv\u001B[0m \u001B[0;34m=\u001B[0m \u001B[0m_pinv_1d\u001B[0m\u001B[0;34m(\u001B[0m\u001B[0ms\u001B[0m\u001B[0;34m,\u001B[0m \u001B[0meps\u001B[0m\u001B[0;34m)\u001B[0m\u001B[0;34m\u001B[0m\u001B[0;34m\u001B[0m\u001B[0m\n\u001B[1;32m    165\u001B[0m         \u001B[0mU\u001B[0m \u001B[0;34m=\u001B[0m \u001B[0mnp\u001B[0m\u001B[0;34m.\u001B[0m\u001B[0mmultiply\u001B[0m\u001B[0;34m(\u001B[0m\u001B[0mu\u001B[0m\u001B[0;34m,\u001B[0m \u001B[0mnp\u001B[0m\u001B[0;34m.\u001B[0m\u001B[0msqrt\u001B[0m\u001B[0;34m(\u001B[0m\u001B[0ms_pinv\u001B[0m\u001B[0;34m)\u001B[0m\u001B[0;34m)\u001B[0m\u001B[0;34m\u001B[0m\u001B[0;34m\u001B[0m\u001B[0m\n",
      "\u001B[0;31mLinAlgError\u001B[0m: singular matrix"
     ]
    }
   ],
   "source": [
    "# Predict the class labels of training data\n",
    "y_train_gcf = gcf.predict(train_data)"
   ]
  },
  {
   "cell_type": "code",
   "execution_count": null,
   "id": "6a59cb95",
   "metadata": {
    "id": "6a59cb95"
   },
   "outputs": [],
   "source": [
    "# Predict the class labels of test data\n",
    "y_test_gcf = gcf.predict(test_data)"
   ]
  },
  {
   "cell_type": "code",
   "execution_count": null,
   "id": "714aa984",
   "metadata": {
    "id": "714aa984",
    "outputId": "bd7e2321-1eba-4cd0-ac08-a8af541dbbaf",
    "colab": {
     "base_uri": "https://localhost:8080/"
    },
    "executionInfo": {
     "status": "ok",
     "timestamp": 1644999409476,
     "user_tz": -480,
     "elapsed": 373,
     "user": {
      "displayName": "Manwai Mak",
      "photoUrl": "https://lh3.googleusercontent.com/a/default-user=s64",
      "userId": "13941862130459577180"
     }
    }
   },
   "outputs": [
    {
     "output_type": "execute_result",
     "data": {
      "text/plain": [
       "1.0"
      ]
     },
     "metadata": {},
     "execution_count": 38
    }
   ],
   "source": [
    "# Training accuracy\n",
    "accuracy(train_labels, y_train_gcf)"
   ]
  },
  {
   "cell_type": "code",
   "execution_count": null,
   "id": "71f739b1",
   "metadata": {
    "id": "71f739b1",
    "outputId": "33e8cd2d-f58a-48c6-b8c8-a93bbd417f4d",
    "colab": {
     "base_uri": "https://localhost:8080/"
    },
    "executionInfo": {
     "status": "ok",
     "timestamp": 1645026853185,
     "user_tz": -480,
     "elapsed": 301,
     "user": {
      "displayName": "Manwai Mak",
      "photoUrl": "https://lh3.googleusercontent.com/a/default-user=s64",
      "userId": "13941862130459577180"
     }
    }
   },
   "outputs": [
    {
     "output_type": "execute_result",
     "data": {
      "text/plain": [
       "0.9309"
      ]
     },
     "metadata": {},
     "execution_count": 15
    }
   ],
   "source": [
    "# Test accuracy\n",
    "accuracy(test_labels, y_test_gcf)"
   ]
  },
  {
   "cell_type": "code",
   "execution_count": null,
   "id": "39f2fc6b",
   "metadata": {
    "id": "39f2fc6b",
    "outputId": "d34754d7-c394-47a5-c22d-f676c6e83e13",
    "colab": {
     "base_uri": "https://localhost:8080/",
     "height": 480
    },
    "executionInfo": {
     "status": "ok",
     "timestamp": 1644999420140,
     "user_tz": -480,
     "elapsed": 1028,
     "user": {
      "displayName": "Manwai Mak",
      "photoUrl": "https://lh3.googleusercontent.com/a/default-user=s64",
      "userId": "13941862130459577180"
     }
    }
   },
   "outputs": [
    {
     "output_type": "execute_result",
     "data": {
      "text/plain": [
       "Text(0.5, 42.0, 'Predicted label')"
      ]
     },
     "metadata": {},
     "execution_count": 40
    },
    {
     "output_type": "display_data",
     "data": {
      "image/png": "[encoded data removed]",
      "text/plain": [
       "<Figure size 720x504 with 2 Axes>"
      ]
     },
     "metadata": {
      "needs_background": "light"
     }
    }
   ],
   "source": [
    "# Plot confusion matrix\n",
    "plt.figure(figsize=(10,7))\n",
    "y_actu = pd.Series(test_labels, name='Actual')\n",
    "y_pred = pd.Series(y_test_gcf, name='Predicted')\n",
    "cm = pd.crosstab(y_actu, y_pred)\n",
    "ax = sns.heatmap(cm, annot=True, fmt=\"d\")\n",
    "plt.ylabel('True label')\n",
    "plt.xlabel('Predicted label')"
   ]
  }
 ],
 "metadata": {
  "kernelspec": {
   "display_name": "Python 3 (ipykernel)",
   "language": "python",
   "name": "python3"
  },
  "language_info": {
   "codemirror_mode": {
    "name": "ipython",
    "version": 3
   },
   "file_extension": ".py",
   "mimetype": "text/x-python",
   "name": "python",
   "nbconvert_exporter": "python",
   "pygments_lexer": "ipython3",
   "version": "3.9.6"
  },
  "colab": {
   "name": "get_gauss_accuracy.ipynb",
   "provenance": [],
   "collapsed_sections": []
  }
 },
 "nbformat": 4,
 "nbformat_minor": 5
}